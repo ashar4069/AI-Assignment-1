{
  "nbformat": 4,
  "nbformat_minor": 0,
  "metadata": {
    "colab": {
      "provenance": [],
      "authorship_tag": "ABX9TyMPImKfLRXViViqW9/kBRCG",
      "include_colab_link": true
    },
    "kernelspec": {
      "name": "python3",
      "display_name": "Python 3"
    },
    "language_info": {
      "name": "python"
    }
  },
  "cells": [
    {
      "cell_type": "markdown",
      "metadata": {
        "id": "view-in-github",
        "colab_type": "text"
      },
      "source": [
        "<a href=\"https://colab.research.google.com/github/ashar4069/AI-Assignment-1/blob/main/Question_5.ipynb\" target=\"_parent\"><img src=\"https://colab.research.google.com/assets/colab-badge.svg\" alt=\"Open In Colab\"/></a>"
      ]
    },
    {
      "cell_type": "code",
      "execution_count": 1,
      "metadata": {
        "id": "0cVJCAuMsKXw"
      },
      "outputs": [],
      "source": [
        "Nodes = {\n",
        "    'Arad': {'Zerind': 75, 'Sibiu': 140, 'Timisoara': 118},\n",
        "    'Zerind': {'Arad': 75, 'Oradea': 71},\n",
        "    'Oradea': {'Zerind': 71},\n",
        "    'Pitesti': {'Rimnicu Vilcea': 97, 'Bucharest': 101,'Craiova':138},\n",
        "    'Timisoara': {'Arad': 118, 'Lugoj': 111},\n",
        "    'Lugoj': {'Timisoara': 111, 'Mehadia': 70},\n",
        "    'Mehadia': {'Lugoj': 70, 'Drobeta': 120},\n",
        "    'Drobeta': {'Mehadia': 120, 'Craiova': 138},\n",
        "    'Craiova': {'Drobeta': 138, 'Rimnicu Vilcea': 146, 'Pitesti': 160},\n",
        "    'Rimnicu Vilcea': {'Craiova': 146, 'Sibiu': 80, 'Pitesti': 97},\n",
        "    'Sibiu': {'Rimnicu Vilcea': 80, 'Fagaras': 99, 'Arad': 140},\n",
        "    'Fagaras': {'Sibiu': 99, 'Bucharest': 241},\n",
        "    'Bucharest': {'Fagaras': 241, 'Giurgiu': 90, 'Urziceni': 85},\n",
        "    'Urziceni': {'Bucharest': 85, 'Hirsova': 98, 'Vaslui': 142},\n",
        "    'Hirsova': {'Urziceni': 98, 'Eforie': 86},\n",
        "    'Eforie': {},\n",
        "    'Giurgiu': {'Bucharest': 90},\n",
        "    'Vaslui': {'Urziceni': 92, 'Iasi': 92},\n",
        "    'Iasi': {'Vaslui': 92, 'Neamt': 87},\n",
        "    'Neamt': {}\n",
        "}"
      ]
    },
    {
      "cell_type": "markdown",
      "source": [
        "BFS"
      ],
      "metadata": {
        "id": "LneU-ijGsWPM"
      }
    },
    {
      "cell_type": "code",
      "source": [
        "def create_graph(Nodes):\n",
        "    graph = {}\n",
        "    for node in Nodes:\n",
        "        graph[node] = Nodes[node]\n",
        "    return graph"
      ],
      "metadata": {
        "id": "OPoZymXvsXHF"
      },
      "execution_count": 2,
      "outputs": []
    },
    {
      "cell_type": "code",
      "source": [
        "def bfs(graph, start, end):\n",
        "    queue = [(start, [start], 0)]\n",
        "    front = 0\n",
        "\n",
        "    while front < len(queue):\n",
        "        current_node, current_path, current_cost = queue[front]\n",
        "        front += 1\n",
        "\n",
        "        print(f\"Current Node: {current_node}, Current Path: {current_path}\")\n",
        "\n",
        "        if current_node == end:\n",
        "            return current_path, current_cost\n",
        "\n",
        "\n",
        "        for neighbor, neighbor_cost in graph.get(current_node, {}).items():\n",
        "            if neighbor not in current_path:\n",
        "                queue.append((neighbor, current_path + [neighbor], current_cost + neighbor_cost))\n",
        "    return None"
      ],
      "metadata": {
        "id": "sFXpeinvs_bC"
      },
      "execution_count": 3,
      "outputs": []
    },
    {
      "cell_type": "code",
      "source": [
        "startingNode = input(\"Please Enter your starting point: \").capitalize()\n",
        "goalNode = input(\"Please Enter the destination: \").capitalize()\n",
        "\n",
        "graph = create_graph(Nodes)\n",
        "print('\\n-----Checking the Graph created-----\\n')\n",
        "print(graph)\n",
        "print('-------------------------------------------------------------------------\\n')\n",
        "path, path_cost = bfs(graph, startingNode, goalNode)\n",
        "\n",
        "if path:\n",
        "    print(f\"\\nThe shortest path from {startingNode} to {goalNode}: {path}\")\n",
        "    print(f\"Path Cost is: {path_cost}\")\n",
        "else:\n",
        "    print(\"Sorry Path not foun\")\n"
      ],
      "metadata": {
        "colab": {
          "base_uri": "https://localhost:8080/"
        },
        "id": "dyasmNxKtG8-",
        "outputId": "272e3f41-9c25-46a0-ec35-105ec8e14b5d"
      },
      "execution_count": 5,
      "outputs": [
        {
          "output_type": "stream",
          "name": "stdout",
          "text": [
            "Please Enter your starting point: bucharest\n",
            "Please Enter the destination: sibiu\n",
            "\n",
            "-----Checking the Graph created-----\n",
            "\n",
            "{'Arad': {'Zerind': 75, 'Sibiu': 140, 'Timisoara': 118}, 'Zerind': {'Arad': 75, 'Oradea': 71}, 'Oradea': {'Zerind': 71}, 'Pitesti': {'Rimnicu Vilcea': 97, 'Bucharest': 101, 'Craiova': 138}, 'Timisoara': {'Arad': 118, 'Lugoj': 111}, 'Lugoj': {'Timisoara': 111, 'Mehadia': 70}, 'Mehadia': {'Lugoj': 70, 'Drobeta': 120}, 'Drobeta': {'Mehadia': 120, 'Craiova': 138}, 'Craiova': {'Drobeta': 138, 'Rimnicu Vilcea': 146, 'Pitesti': 160}, 'Rimnicu Vilcea': {'Craiova': 146, 'Sibiu': 80, 'Pitesti': 97}, 'Sibiu': {'Rimnicu Vilcea': 80, 'Fagaras': 99, 'Arad': 140}, 'Fagaras': {'Sibiu': 99, 'Bucharest': 241}, 'Bucharest': {'Fagaras': 241, 'Giurgiu': 90, 'Urziceni': 85}, 'Urziceni': {'Bucharest': 85, 'Hirsova': 98, 'Vaslui': 142}, 'Hirsova': {'Urziceni': 98, 'Eforie': 86}, 'Eforie': {}, 'Giurgiu': {'Bucharest': 90}, 'Vaslui': {'Urziceni': 92, 'Iasi': 92}, 'Iasi': {'Vaslui': 92, 'Neamt': 87}, 'Neamt': {}}\n",
            "-------------------------------------------------------------------------\n",
            "\n",
            "Current Node: Bucharest, Current Path: ['Bucharest']\n",
            "Current Node: Fagaras, Current Path: ['Bucharest', 'Fagaras']\n",
            "Current Node: Giurgiu, Current Path: ['Bucharest', 'Giurgiu']\n",
            "Current Node: Urziceni, Current Path: ['Bucharest', 'Urziceni']\n",
            "Current Node: Sibiu, Current Path: ['Bucharest', 'Fagaras', 'Sibiu']\n",
            "\n",
            "The shortest path from Bucharest to Sibiu: ['Bucharest', 'Fagaras', 'Sibiu']\n",
            "Path Cost is: 340\n"
          ]
        }
      ]
    },
    {
      "cell_type": "code",
      "source": [],
      "metadata": {
        "id": "LW2CXOCStJys"
      },
      "execution_count": null,
      "outputs": []
    },
    {
      "cell_type": "markdown",
      "source": [
        "UCS\n"
      ],
      "metadata": {
        "id": "Gpf401T-uXqR"
      }
    },
    {
      "cell_type": "code",
      "source": [
        "\n",
        "import heapq\n",
        "def create_graph(Nodes):\n",
        "    graph = {}\n",
        "    for node in Nodes:\n",
        "        graph[node] = Nodes[node]\n",
        "    return graph\n"
      ],
      "metadata": {
        "id": "4TQ9xPOuuYu_"
      },
      "execution_count": 7,
      "outputs": []
    },
    {
      "cell_type": "code",
      "source": [
        "def uniform_cost_search(graph, start, goal):\n",
        "\n",
        "    queue = [(0, start, [])]\n",
        "    explored = set()\n",
        "\n",
        "\n",
        "\n",
        "    while queue:\n",
        "\n",
        "        current_cost, current_node, current_path = heapq.heappop(queue)\n",
        "        print(f\"Current Node: {current_node}, Current Path: {current_path}\")\n",
        "\n",
        "        if current_node in explored:\n",
        "            continue\n",
        "\n",
        "        explored.add(current_node)\n",
        "        current_path = current_path + [current_node]\n",
        "\n",
        "        if current_node == goal:\n",
        "            return current_path, current_cost\n",
        "\n",
        "        for neighbor, neighbor_cost in graph.get(current_node, {}).items():\n",
        "            if neighbor not in explored:\n",
        "                heapq.heappush(queue, (current_cost + neighbor_cost, neighbor, current_path))\n",
        "\n",
        "\n",
        "    return None"
      ],
      "metadata": {
        "id": "mZDc_s5Ruafe"
      },
      "execution_count": 8,
      "outputs": []
    },
    {
      "cell_type": "code",
      "source": [
        "startingNode = input(\"Please Enter your starting point: \").capitalize()\n",
        "goalNode = input(\"Please Enter the destination: \").capitalize()\n",
        "\n",
        "graph = create_graph(Nodes)\n",
        "path, path_cost = uniform_cost_search(graph, startingNode, goalNode)\n",
        "\n",
        "if path:\n",
        "    print(f\"\\nThe shortest path from {startingNode} to {goalNode}: {path}\")\n",
        "    print(f\"Path cost is: {path_cost}\")\n",
        "else:\n",
        "    print(f\"\\nNo path found between {startingNode} and {goalNode}\")\n"
      ],
      "metadata": {
        "colab": {
          "base_uri": "https://localhost:8080/"
        },
        "id": "Cfn-qb_8ulVf",
        "outputId": "c52cfb07-0c69-4101-a5b9-c9f8b10e3c0b"
      },
      "execution_count": 9,
      "outputs": [
        {
          "output_type": "stream",
          "name": "stdout",
          "text": [
            "Please Enter your starting point: bucharest\n",
            "Please Enter the destination: sibiu\n",
            "Current Node: Bucharest, Current Path: []\n",
            "Current Node: Urziceni, Current Path: ['Bucharest']\n",
            "Current Node: Giurgiu, Current Path: ['Bucharest']\n",
            "Current Node: Hirsova, Current Path: ['Bucharest', 'Urziceni']\n",
            "Current Node: Vaslui, Current Path: ['Bucharest', 'Urziceni']\n",
            "Current Node: Fagaras, Current Path: ['Bucharest']\n",
            "Current Node: Eforie, Current Path: ['Bucharest', 'Urziceni', 'Hirsova']\n",
            "Current Node: Iasi, Current Path: ['Bucharest', 'Urziceni', 'Vaslui']\n",
            "Current Node: Sibiu, Current Path: ['Bucharest', 'Fagaras']\n",
            "\n",
            "The shortest path from Bucharest to Sibiu: ['Bucharest', 'Fagaras', 'Sibiu']\n",
            "Path cost is: 340\n"
          ]
        }
      ]
    },
    {
      "cell_type": "code",
      "source": [],
      "metadata": {
        "id": "K9eXvSjHuoCX"
      },
      "execution_count": null,
      "outputs": []
    },
    {
      "cell_type": "markdown",
      "source": [
        "Greedy BFS"
      ],
      "metadata": {
        "id": "KXo2zrUtuyOj"
      }
    },
    {
      "cell_type": "code",
      "source": [
        "def greedy_best_first_search(graph, start, goal, heuristics):\n",
        "    explored = set()\n",
        "\n",
        "    frontier = [(heuristics[start], start, 0, [start])]\n",
        "    while frontier:\n",
        "        frontier.sort(reverse=True)\n",
        "        current_heuristic, current_node, path_cost, current_path = frontier.pop(0)\n",
        "\n",
        "        print(f\"Current Node: {current_node}, Current Path: {current_path}\")\n",
        "\n",
        "        if current_node == goal:\n",
        "            return current_path, path_cost\n",
        "\n",
        "        if current_node not in explored:\n",
        "            explored.add(current_node)\n",
        "\n",
        "\n",
        "            for neighbor, cost in graph[current_node].items():\n",
        "                if neighbor not in explored:\n",
        "                    heuristic_value = heuristics[neighbor]\n",
        "                    new_path_cost = path_cost + cost\n",
        "                    new_path = current_path + [neighbor]\n",
        "\n",
        "                    frontier.append((heuristic_value, neighbor, new_path_cost, new_path))\n",
        "    return None"
      ],
      "metadata": {
        "id": "34fgvox8u0uW"
      },
      "execution_count": 10,
      "outputs": []
    },
    {
      "cell_type": "code",
      "source": [
        "heuristics = {\n",
        "    'Arad': 366, 'Zerind': 374, 'Oradea': 380, 'Pitesti': 100, 'Timisoara': 329,\n",
        "    'Lugoj': 244, 'Mehadia': 241, 'Drobeta': 242, 'Craiova': 160,\n",
        "    'Rimnicu Vilcea': 193, 'Sibiu': 253, 'Fagaras': 176, 'Bucharest': 0,\n",
        "    'Giurgiu': 77, 'Urziceni': 80, 'Hirsova': 151, 'Eforie': 161,\n",
        "    'Vaslui': 199, 'Iasi': 226, 'Neamt': 234\n",
        "}\n"
      ],
      "metadata": {
        "id": "rRQBsMECvAJS"
      },
      "execution_count": 11,
      "outputs": []
    },
    {
      "cell_type": "code",
      "source": [
        "startingNode = input(\"Enter your starting point: \").capitalize()\n",
        "goalNode = input(\"Enter the destination: \").capitalize()\n",
        "\n",
        "result = greedy_best_first_search(graph, startingNode, goalNode, heuristics)\n",
        "\n",
        "if result:\n",
        "    path, path_cost = result\n",
        "    print(f\"\\nThe shortest path from {startingNode} to {goalNode}: {path}\")\n",
        "    print(f\"Path Cost is: {path_cost}\")\n",
        "else:\n",
        "    print(\"Sorry Path not found.\")\n"
      ],
      "metadata": {
        "colab": {
          "base_uri": "https://localhost:8080/"
        },
        "id": "Ex_xvgaBvCwh",
        "outputId": "e797e5f8-afb2-424a-85dd-825d9c5c76fb"
      },
      "execution_count": 12,
      "outputs": [
        {
          "output_type": "stream",
          "name": "stdout",
          "text": [
            "Enter your starting point: bucharest\n",
            "Enter the destination: sibiu\n",
            "Current Node: Bucharest, Current Path: ['Bucharest']\n",
            "Current Node: Fagaras, Current Path: ['Bucharest', 'Fagaras']\n",
            "Current Node: Sibiu, Current Path: ['Bucharest', 'Fagaras', 'Sibiu']\n",
            "\n",
            "The shortest path from Bucharest to Sibiu: ['Bucharest', 'Fagaras', 'Sibiu']\n",
            "Path Cost is: 340\n"
          ]
        }
      ]
    },
    {
      "cell_type": "code",
      "source": [],
      "metadata": {
        "id": "ISQoZAhXvGyd"
      },
      "execution_count": null,
      "outputs": []
    },
    {
      "cell_type": "markdown",
      "source": [
        "Iterative Deepening DFS"
      ],
      "metadata": {
        "id": "qc8sqt_8vOdU"
      }
    },
    {
      "cell_type": "code",
      "source": [
        "\n",
        "def create_graph(Nodes):\n",
        "    graph = {}\n",
        "    for node in Nodes:\n",
        "        graph[node] = Nodes[node]\n",
        "    return graph"
      ],
      "metadata": {
        "id": "yYg62dL7vQ06"
      },
      "execution_count": 13,
      "outputs": []
    },
    {
      "cell_type": "code",
      "source": [
        "def iterative_dfs(graph, start, destination, limit):\n",
        "\n",
        "    for depth in range(limit + 1):\n",
        "        result = depth_First_Search(graph, start, destination, depth)\n",
        "        if result:\n",
        "            return result\n",
        "    return None"
      ],
      "metadata": {
        "id": "3s4yM5V_vUZh"
      },
      "execution_count": 14,
      "outputs": []
    },
    {
      "cell_type": "code",
      "source": [
        "def depth_First_Search(graph, current, destination, limit, depth=0, path=None, path_cost=0):\n",
        "    if depth > limit:\n",
        "        return None\n",
        "\n",
        "    if path is None:\n",
        "        path = [current]\n",
        "\n",
        "    if current == destination:\n",
        "        print(f\"Current Node: {current}, Current Path: {path}, Path Cost: {path_cost}\")\n",
        "        return path, path_cost\n",
        "\n",
        "    if depth == limit:\n",
        "        return None\n",
        "    for neighbor, neighbor_cost in graph[current].items():\n",
        "        if neighbor not in path:\n",
        "            new_path = list(path)\n",
        "            new_path.append(neighbor)\n",
        "            new_path_cost = path_cost + neighbor_cost\n",
        "\n",
        "            result = depth_First_Search(graph, neighbor, destination, limit, depth + 1, new_path, new_path_cost)\n",
        "            if result:\n",
        "                return result\n",
        "\n",
        "    return None"
      ],
      "metadata": {
        "id": "7lsB3alNvXGr"
      },
      "execution_count": 16,
      "outputs": []
    },
    {
      "cell_type": "code",
      "source": [
        "startingNode = input(\"Enter the starting point: \").capitalize()\n",
        "goalNode = input(\"Enter the destination: \").capitalize()\n",
        "max_limit = int(input(\"Enter the maximum depth: \"))\n",
        "\n",
        "graph = create_graph(Nodes)\n",
        "result = iterative_dfs(graph, startingNode, goalNode, max_limit)\n",
        "\n",
        "if result:\n",
        "    path, path_cost = result\n",
        "    print(f\"\\nThe shortest path from {startingNode} to {goalNode}: {path}\")\n",
        "    print(f\"Path Cost is: {path_cost}\")\n",
        "else:\n",
        "    print(\"Sorry Path not found.\")"
      ],
      "metadata": {
        "colab": {
          "base_uri": "https://localhost:8080/"
        },
        "id": "wvHJCBx0vjJp",
        "outputId": "b92f0f5a-b6a1-4299-d933-d9fbc9bb3287"
      },
      "execution_count": 18,
      "outputs": [
        {
          "output_type": "stream",
          "name": "stdout",
          "text": [
            "Enter the starting point: sibiu\n",
            "Enter the destination: bucharest\n",
            "Enter the maximum depth: 5\n",
            "Current Node: Bucharest, Current Path: ['Sibiu', 'Fagaras', 'Bucharest'], Path Cost: 340\n",
            "\n",
            "The shortest path from Sibiu to Bucharest: ['Sibiu', 'Fagaras', 'Bucharest']\n",
            "Path Cost is: 340\n"
          ]
        }
      ]
    },
    {
      "cell_type": "code",
      "source": [],
      "metadata": {
        "id": "P-l8PsKJvqJ_"
      },
      "execution_count": null,
      "outputs": []
    }
  ]
}